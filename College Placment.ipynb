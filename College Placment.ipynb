{
 "cells": [
  {
   "cell_type": "code",
   "execution_count": null,
   "id": "961b6470",
   "metadata": {},
   "outputs": [],
   "source": [
    "# A University Announced Its On-Campus Placement Records For The Engineering Course. The Data Is From The Years 2013 And 2014.\n",
    "# The Following Is The College Placements Data Compiled Over 2 years. Use This Data To Predict And Analyse Whether A Student Gets Placed, Based On His/Her Background.\n",
    "# Perform Extensive EDAs And Bring Out Insights.\n",
    "# Build A Robust Model Using ML Techniques Or Neural Networks. Use Multiple Algorithms."
   ]
  },
  {
   "cell_type": "code",
   "execution_count": 1,
   "id": "2dc37b3e",
   "metadata": {},
   "outputs": [],
   "source": [
    "#Imports\n",
    "\n",
    "import numpy as np\n",
    "import pandas as pd\n",
    "\n",
    "import matplotlib.pyplot as plt\n",
    "import seaborn as sns\n",
    "\n",
    "#Supress the warnings\n",
    "import warnings\n",
    "warnings.filterwarnings('ignore')"
   ]
  },
  {
   "cell_type": "code",
   "execution_count": 2,
   "id": "a6a466e5",
   "metadata": {},
   "outputs": [
    {
     "name": "stdout",
     "output_type": "stream",
     "text": [
      "<class 'pandas.core.frame.DataFrame'>\n",
      "RangeIndex: 2966 entries, 0 to 2965\n",
      "Data columns (total 8 columns):\n",
      " #   Column             Non-Null Count  Dtype \n",
      "---  ------             --------------  ----- \n",
      " 0   Age                2966 non-null   int64 \n",
      " 1   Gender             2966 non-null   object\n",
      " 2   Stream             2966 non-null   object\n",
      " 3   Internships        2966 non-null   int64 \n",
      " 4   CGPA               2966 non-null   int64 \n",
      " 5   Hostel             2966 non-null   int64 \n",
      " 6   HistoryOfBacklogs  2966 non-null   int64 \n",
      " 7   PlacedOrNot        2966 non-null   int64 \n",
      "dtypes: int64(6), object(2)\n",
      "memory usage: 185.5+ KB\n"
     ]
    }
   ],
   "source": [
    "df=pd.read_csv('collegePlace.csv')\n",
    "df.info()\n",
    "# There is no missing values "
   ]
  },
  {
   "cell_type": "code",
   "execution_count": 3,
   "id": "95ac534d",
   "metadata": {},
   "outputs": [
    {
     "data": {
      "text/html": [
       "<div>\n",
       "<style scoped>\n",
       "    .dataframe tbody tr th:only-of-type {\n",
       "        vertical-align: middle;\n",
       "    }\n",
       "\n",
       "    .dataframe tbody tr th {\n",
       "        vertical-align: top;\n",
       "    }\n",
       "\n",
       "    .dataframe thead th {\n",
       "        text-align: right;\n",
       "    }\n",
       "</style>\n",
       "<table border=\"1\" class=\"dataframe\">\n",
       "  <thead>\n",
       "    <tr style=\"text-align: right;\">\n",
       "      <th></th>\n",
       "      <th>Age</th>\n",
       "      <th>Gender</th>\n",
       "      <th>Stream</th>\n",
       "      <th>Internships</th>\n",
       "      <th>CGPA</th>\n",
       "      <th>Hostel</th>\n",
       "      <th>HistoryOfBacklogs</th>\n",
       "      <th>PlacedOrNot</th>\n",
       "    </tr>\n",
       "  </thead>\n",
       "  <tbody>\n",
       "    <tr>\n",
       "      <th>0</th>\n",
       "      <td>22</td>\n",
       "      <td>Male</td>\n",
       "      <td>Electronics And Communication</td>\n",
       "      <td>1</td>\n",
       "      <td>8</td>\n",
       "      <td>1</td>\n",
       "      <td>1</td>\n",
       "      <td>1</td>\n",
       "    </tr>\n",
       "    <tr>\n",
       "      <th>1</th>\n",
       "      <td>21</td>\n",
       "      <td>Female</td>\n",
       "      <td>Computer Science</td>\n",
       "      <td>0</td>\n",
       "      <td>7</td>\n",
       "      <td>1</td>\n",
       "      <td>1</td>\n",
       "      <td>1</td>\n",
       "    </tr>\n",
       "    <tr>\n",
       "      <th>2</th>\n",
       "      <td>22</td>\n",
       "      <td>Female</td>\n",
       "      <td>Information Technology</td>\n",
       "      <td>1</td>\n",
       "      <td>6</td>\n",
       "      <td>0</td>\n",
       "      <td>0</td>\n",
       "      <td>1</td>\n",
       "    </tr>\n",
       "    <tr>\n",
       "      <th>3</th>\n",
       "      <td>21</td>\n",
       "      <td>Male</td>\n",
       "      <td>Information Technology</td>\n",
       "      <td>0</td>\n",
       "      <td>8</td>\n",
       "      <td>0</td>\n",
       "      <td>1</td>\n",
       "      <td>1</td>\n",
       "    </tr>\n",
       "    <tr>\n",
       "      <th>4</th>\n",
       "      <td>22</td>\n",
       "      <td>Male</td>\n",
       "      <td>Mechanical</td>\n",
       "      <td>0</td>\n",
       "      <td>8</td>\n",
       "      <td>1</td>\n",
       "      <td>0</td>\n",
       "      <td>1</td>\n",
       "    </tr>\n",
       "  </tbody>\n",
       "</table>\n",
       "</div>"
      ],
      "text/plain": [
       "   Age  Gender                         Stream  Internships  CGPA  Hostel  \\\n",
       "0   22    Male  Electronics And Communication            1     8       1   \n",
       "1   21  Female               Computer Science            0     7       1   \n",
       "2   22  Female         Information Technology            1     6       0   \n",
       "3   21    Male         Information Technology            0     8       0   \n",
       "4   22    Male                     Mechanical            0     8       1   \n",
       "\n",
       "   HistoryOfBacklogs  PlacedOrNot  \n",
       "0                  1            1  \n",
       "1                  1            1  \n",
       "2                  0            1  \n",
       "3                  1            1  \n",
       "4                  0            1  "
      ]
     },
     "execution_count": 3,
     "metadata": {},
     "output_type": "execute_result"
    }
   ],
   "source": [
    "df.head()"
   ]
  },
  {
   "cell_type": "code",
   "execution_count": 4,
   "id": "55a36e33",
   "metadata": {},
   "outputs": [
    {
     "data": {
      "text/plain": [
       "(2966, 8)"
      ]
     },
     "execution_count": 4,
     "metadata": {},
     "output_type": "execute_result"
    }
   ],
   "source": [
    "df.shape"
   ]
  },
  {
   "cell_type": "code",
   "execution_count": 5,
   "id": "a97dc89d",
   "metadata": {},
   "outputs": [
    {
     "name": "stdout",
     "output_type": "stream",
     "text": [
      "1829\n",
      "(1137, 8)\n"
     ]
    }
   ],
   "source": [
    "print(df.duplicated().sum())\n",
    "df.drop_duplicates(inplace=True)\n",
    "print(df.shape)"
   ]
  },
  {
   "cell_type": "code",
   "execution_count": 6,
   "id": "97340b9b",
   "metadata": {},
   "outputs": [
    {
     "name": "stdout",
     "output_type": "stream",
     "text": [
      "['Age', 'Gender', 'Stream', 'Internships', 'CGPA', 'Hostel', 'HistoryOfBacklogs', 'PlacedOrNot']\n"
     ]
    }
   ],
   "source": [
    "x=list(df.columns)\n",
    "print(x)"
   ]
  },
  {
   "cell_type": "code",
   "execution_count": 7,
   "id": "74f0fe52",
   "metadata": {},
   "outputs": [],
   "source": [
    "def count_plot(x):\n",
    "    plt.figure(figsize=(15,20))\n",
    "    plt.subplots_adjust(hspace=0.5,wspace=0.5)\n",
    "    \n",
    "    for i in range(1,len(x)):\n",
    "        plt.subplot(2,4,i)\n",
    "        plt.xticks(rotation = 90)\n",
    "        sns.countplot(df[x[i]])     "
   ]
  },
  {
   "cell_type": "code",
   "execution_count": 8,
   "id": "feb23588",
   "metadata": {},
   "outputs": [
    {
     "data": {
      "image/png": "[encoded data removed]",
      "text/plain": [
       "<Figure size 1080x1440 with 7 Axes>"
      ]
     },
     "metadata": {
      "needs_background": "light"
     },
     "output_type": "display_data"
    }
   ],
   "source": [
    "count_plot(x)"
   ]
  },
  {
   "cell_type": "code",
   "execution_count": null,
   "id": "59182440",
   "metadata": {},
   "outputs": [],
   "source": [
    "# There are approx.  male and  females for different stream\n",
    "\n",
    "# Highest number of students approx  have shown intreset for Computer scinece stream \n",
    "# followed by Information technology  and least students are intrested for Civil Engineering \n",
    "\n",
    "# Majority of students approx  have secured  CGPA, aprrox  students \n",
    "# secured  CGPA and approx  students secured  CGPA only\n",
    "\n",
    "# There are  students who are not having backlogs\n",
    "# whereas  students have backlogs in their courses"
   ]
  },
  {
   "cell_type": "code",
   "execution_count": 9,
   "id": "32598f42",
   "metadata": {},
   "outputs": [
    {
     "data": {
      "text/plain": [
       "<Axes: ylabel='Age'>"
      ]
     },
     "execution_count": 9,
     "metadata": {},
     "output_type": "execute_result"
    },
    {
     "data": {
      "image/png": "[encoded data removed]",
      "text/plain": [
       "<Figure size 432x288 with 1 Axes>"
      ]
     },
     "metadata": {
      "needs_background": "light"
     },
     "output_type": "display_data"
    }
   ],
   "source": [
    "sns.boxplot(y=df['Age'])\n",
    "#There seems outlier in age but practically it may not be outlier \n",
    "# becasue an individual can study normally upto age of 30 years"
   ]
  },
  {
   "cell_type": "code",
   "execution_count": 10,
   "id": "23ca5287",
   "metadata": {},
   "outputs": [
    {
     "data": {
      "text/plain": [
       "1    659\n",
       "0    478\n",
       "Name: PlacedOrNot, dtype: int64"
      ]
     },
     "execution_count": 10,
     "metadata": {},
     "output_type": "execute_result"
    }
   ],
   "source": [
    "df['PlacedOrNot'].value_counts()"
   ]
  },
  {
   "cell_type": "code",
   "execution_count": 11,
   "id": "e7a931bf",
   "metadata": {},
   "outputs": [
    {
     "data": {
      "image/png": "[encoded data removed]",
      "text/plain": [
       "<Figure size 432x288 with 1 Axes>"
      ]
     },
     "metadata": {},
     "output_type": "display_data"
    },
    {
     "name": "stdout",
     "output_type": "stream",
     "text": [
      "57% of the students (659) have been placed, 42% of the students(478) were not placed.\n"
     ]
    }
   ],
   "source": [
    "plt.pie(labels=['Placed','Not Placed'], x=df['PlacedOrNot'].value_counts().values,autopct='%0.2f')\n",
    "plt.title('Placement')\n",
    "plt.show()\n",
    "\n",
    "print('57% of the students (659) have been placed, 42% of the students(478) were not placed.')"
   ]
  },
  {
   "cell_type": "code",
   "execution_count": 12,
   "id": "76ff9d21",
   "metadata": {},
   "outputs": [
    {
     "data": {
      "image/png": "[encoded data removed]",
      "text/plain": [
       "<Figure size 432x288 with 1 Axes>"
      ]
     },
     "metadata": {},
     "output_type": "display_data"
    },
    {
     "name": "stdout",
     "output_type": "stream",
     "text": [
      "There are 72% students placed without backlogs and 27% placed with backlog history\n"
     ]
    }
   ],
   "source": [
    "a=len(df[(df['PlacedOrNot']==1) & (df['HistoryOfBacklogs']==1)])\n",
    "b=len(df[(df['PlacedOrNot']==1) & (df['HistoryOfBacklogs']==0)])\n",
    "c=len(df[(df['PlacedOrNot']==1)])\n",
    "\n",
    "plt.pie(labels=['Placed and backlogs','Placed and no backlogs'], \n",
    "       x=[a,b],autopct='%0.2f')\n",
    "plt.title('Placed with and without baclogs')\n",
    "plt.show()\n",
    "\n",
    "print('''There are 72% students placed without backlogs and 27% placed with backlog history''')"
   ]
  },
  {
   "cell_type": "code",
   "execution_count": 13,
   "id": "5b7b6a6e",
   "metadata": {},
   "outputs": [
    {
     "data": {
      "image/png": "[encoded data removed]",
      "text/plain": [
       "<Figure size 432x288 with 1 Axes>"
      ]
     },
     "metadata": {},
     "output_type": "display_data"
    },
    {
     "name": "stdout",
     "output_type": "stream",
     "text": [
      " %of the students have been placed, % of the students were not placed.\n"
     ]
    }
   ],
   "source": [
    "# print(df['PlacedOrNot'].value_counts())\n",
    "plt.pie(labels=['Placed','Not Placed'], x=df['PlacedOrNot'].value_counts().values,autopct='%0.2f')\n",
    "plt.title('Placement')\n",
    "plt.show()\n",
    "\n",
    "print(' %of the students have been placed, % of the students were not placed.')"
   ]
  },
  {
   "cell_type": "code",
   "execution_count": 14,
   "id": "9472eef3",
   "metadata": {},
   "outputs": [
    {
     "name": "stdout",
     "output_type": "stream",
     "text": [
      "156\n",
      "322\n",
      "478\n"
     ]
    },
    {
     "data": {
      "image/png": "[encoded data removed]",
      "text/plain": [
       "<Figure size 432x288 with 1 Axes>"
      ]
     },
     "metadata": {},
     "output_type": "display_data"
    },
    {
     "name": "stdout",
     "output_type": "stream",
     "text": [
      "There are 478 students not placed out of which 156 students are not placed and \n",
      "are not having backlogs also whereas 322 students have not been placed and have no backlogs.\n",
      "-----\n",
      "As its clear that out 0f 478 students who are not placed, 1059 students have no backlogs\n",
      "means backlog isn't the only criteria for placement.\n"
     ]
    }
   ],
   "source": [
    "print(len(df[(df['PlacedOrNot']==0) & (df['HistoryOfBacklogs']==1)]))\n",
    "print(len(df[(df['PlacedOrNot']==0) & (df['HistoryOfBacklogs']==0)]))\n",
    "print(len(df[(df['PlacedOrNot']==0)]))\n",
    "\n",
    "plt.pie(labels=['Not Placed with backlogs','Not Placed without backlogs'], \n",
    "        x=[156,322],autopct='%0.2f')\n",
    "plt.title('Not placed students with and without backlogs')\n",
    "plt.show()\n",
    "\n",
    "print('''There are 478 students not placed out of which 156 students are not placed and \n",
    "are not having backlogs also whereas 322 students have not been placed and have no backlogs.''')\n",
    "print(\"-----\")\n",
    "print(\"\"\"As its clear that out 0f 478 students who are not placed, 1059 students have no backlogs\n",
    "means backlog isn't the only criteria for placement.\"\"\")"
   ]
  },
  {
   "cell_type": "code",
   "execution_count": 15,
   "id": "21b5cb1a",
   "metadata": {},
   "outputs": [
    {
     "data": {
      "text/html": [
       "<div>\n",
       "<style scoped>\n",
       "    .dataframe tbody tr th:only-of-type {\n",
       "        vertical-align: middle;\n",
       "    }\n",
       "\n",
       "    .dataframe tbody tr th {\n",
       "        vertical-align: top;\n",
       "    }\n",
       "\n",
       "    .dataframe thead th {\n",
       "        text-align: right;\n",
       "    }\n",
       "</style>\n",
       "<table border=\"1\" class=\"dataframe\">\n",
       "  <thead>\n",
       "    <tr style=\"text-align: right;\">\n",
       "      <th></th>\n",
       "      <th>Age</th>\n",
       "      <th>Gender</th>\n",
       "      <th>Stream</th>\n",
       "      <th>Internships</th>\n",
       "      <th>CGPA</th>\n",
       "      <th>Hostel</th>\n",
       "      <th>HistoryOfBacklogs</th>\n",
       "      <th>PlacedOrNot</th>\n",
       "    </tr>\n",
       "  </thead>\n",
       "  <tbody>\n",
       "    <tr>\n",
       "      <th>5</th>\n",
       "      <td>22</td>\n",
       "      <td>Male</td>\n",
       "      <td>Electronics And Communication</td>\n",
       "      <td>0</td>\n",
       "      <td>6</td>\n",
       "      <td>0</td>\n",
       "      <td>0</td>\n",
       "      <td>0</td>\n",
       "    </tr>\n",
       "    <tr>\n",
       "      <th>7</th>\n",
       "      <td>21</td>\n",
       "      <td>Male</td>\n",
       "      <td>Information Technology</td>\n",
       "      <td>1</td>\n",
       "      <td>7</td>\n",
       "      <td>0</td>\n",
       "      <td>0</td>\n",
       "      <td>0</td>\n",
       "    </tr>\n",
       "    <tr>\n",
       "      <th>9</th>\n",
       "      <td>21</td>\n",
       "      <td>Female</td>\n",
       "      <td>Computer Science</td>\n",
       "      <td>1</td>\n",
       "      <td>6</td>\n",
       "      <td>1</td>\n",
       "      <td>0</td>\n",
       "      <td>0</td>\n",
       "    </tr>\n",
       "    <tr>\n",
       "      <th>10</th>\n",
       "      <td>22</td>\n",
       "      <td>Male</td>\n",
       "      <td>Computer Science</td>\n",
       "      <td>1</td>\n",
       "      <td>7</td>\n",
       "      <td>0</td>\n",
       "      <td>0</td>\n",
       "      <td>0</td>\n",
       "    </tr>\n",
       "    <tr>\n",
       "      <th>16</th>\n",
       "      <td>22</td>\n",
       "      <td>Female</td>\n",
       "      <td>Computer Science</td>\n",
       "      <td>1</td>\n",
       "      <td>7</td>\n",
       "      <td>1</td>\n",
       "      <td>0</td>\n",
       "      <td>0</td>\n",
       "    </tr>\n",
       "    <tr>\n",
       "      <th>...</th>\n",
       "      <td>...</td>\n",
       "      <td>...</td>\n",
       "      <td>...</td>\n",
       "      <td>...</td>\n",
       "      <td>...</td>\n",
       "      <td>...</td>\n",
       "      <td>...</td>\n",
       "      <td>...</td>\n",
       "    </tr>\n",
       "    <tr>\n",
       "      <th>2911</th>\n",
       "      <td>23</td>\n",
       "      <td>Male</td>\n",
       "      <td>Information Technology</td>\n",
       "      <td>1</td>\n",
       "      <td>6</td>\n",
       "      <td>1</td>\n",
       "      <td>0</td>\n",
       "      <td>0</td>\n",
       "    </tr>\n",
       "    <tr>\n",
       "      <th>2921</th>\n",
       "      <td>23</td>\n",
       "      <td>Male</td>\n",
       "      <td>Information Technology</td>\n",
       "      <td>0</td>\n",
       "      <td>6</td>\n",
       "      <td>0</td>\n",
       "      <td>0</td>\n",
       "      <td>0</td>\n",
       "    </tr>\n",
       "    <tr>\n",
       "      <th>2929</th>\n",
       "      <td>23</td>\n",
       "      <td>Female</td>\n",
       "      <td>Computer Science</td>\n",
       "      <td>0</td>\n",
       "      <td>6</td>\n",
       "      <td>1</td>\n",
       "      <td>0</td>\n",
       "      <td>0</td>\n",
       "    </tr>\n",
       "    <tr>\n",
       "      <th>2937</th>\n",
       "      <td>23</td>\n",
       "      <td>Male</td>\n",
       "      <td>Mechanical</td>\n",
       "      <td>0</td>\n",
       "      <td>6</td>\n",
       "      <td>0</td>\n",
       "      <td>0</td>\n",
       "      <td>0</td>\n",
       "    </tr>\n",
       "    <tr>\n",
       "      <th>2960</th>\n",
       "      <td>23</td>\n",
       "      <td>Male</td>\n",
       "      <td>Mechanical</td>\n",
       "      <td>1</td>\n",
       "      <td>7</td>\n",
       "      <td>1</td>\n",
       "      <td>0</td>\n",
       "      <td>0</td>\n",
       "    </tr>\n",
       "  </tbody>\n",
       "</table>\n",
       "<p>322 rows × 8 columns</p>\n",
       "</div>"
      ],
      "text/plain": [
       "      Age  Gender                         Stream  Internships  CGPA  Hostel  \\\n",
       "5      22    Male  Electronics And Communication            0     6       0   \n",
       "7      21    Male         Information Technology            1     7       0   \n",
       "9      21  Female               Computer Science            1     6       1   \n",
       "10     22    Male               Computer Science            1     7       0   \n",
       "16     22  Female               Computer Science            1     7       1   \n",
       "...   ...     ...                            ...          ...   ...     ...   \n",
       "2911   23    Male         Information Technology            1     6       1   \n",
       "2921   23    Male         Information Technology            0     6       0   \n",
       "2929   23  Female               Computer Science            0     6       1   \n",
       "2937   23    Male                     Mechanical            0     6       0   \n",
       "2960   23    Male                     Mechanical            1     7       1   \n",
       "\n",
       "      HistoryOfBacklogs  PlacedOrNot  \n",
       "5                     0            0  \n",
       "7                     0            0  \n",
       "9                     0            0  \n",
       "10                    0            0  \n",
       "16                    0            0  \n",
       "...                 ...          ...  \n",
       "2911                  0            0  \n",
       "2921                  0            0  \n",
       "2929                  0            0  \n",
       "2937                  0            0  \n",
       "2960                  0            0  \n",
       "\n",
       "[322 rows x 8 columns]"
      ]
     },
     "execution_count": 15,
     "metadata": {},
     "output_type": "execute_result"
    }
   ],
   "source": [
    "x=df[(df['PlacedOrNot']==0) & (df['HistoryOfBacklogs']==0) ]\n",
    "x"
   ]
  },
  {
   "cell_type": "code",
   "execution_count": 18,
   "id": "cc013d10",
   "metadata": {},
   "outputs": [
    {
     "data": {
      "text/plain": [
       "7    153\n",
       "6    112\n",
       "5     57\n",
       "Name: CGPA, dtype: int64"
      ]
     },
     "execution_count": 18,
     "metadata": {},
     "output_type": "execute_result"
    }
   ],
   "source": [
    "x['CGPA'].value_counts()"
   ]
  },
  {
   "cell_type": "code",
   "execution_count": 20,
   "id": "e8bad64b",
   "metadata": {},
   "outputs": [
    {
     "name": "stdout",
     "output_type": "stream",
     "text": [
      "7    153\n",
      "6    112\n",
      "5     57\n",
      "Name: CGPA, dtype: int64\n"
     ]
    },
    {
     "data": {
      "image/png": "[encoded data removed]",
      "text/plain": [
       "<Figure size 432x288 with 1 Axes>"
      ]
     },
     "metadata": {},
     "output_type": "display_data"
    },
    {
     "name": "stdout",
     "output_type": "stream",
     "text": [
      "There are 300+ students who are not having backlog and not placed because all of them are having CGPA<=7\n",
      "so CGPA is a significant criteria for placements.\n"
     ]
    }
   ],
   "source": [
    "x=df[(df['PlacedOrNot']==0) & (df['HistoryOfBacklogs']==0) ]\n",
    "print(x['CGPA'].value_counts())\n",
    "\n",
    "plt.pie(labels=['CGPA=7','CGPA=6', 'CGPA=5'], \n",
    "        x=x['CGPA'].value_counts().values,autopct='%0.2f')\n",
    "plt.title('Not placed students without any backlogs')\n",
    "plt.show()\n",
    "\n",
    "print('''There are 300+ students who are not having backlog and not placed because all of them are having CGPA<=7\n",
    "so CGPA is a significant criteria for placements.''')"
   ]
  },
  {
   "cell_type": "code",
   "execution_count": 21,
   "id": "357915e0",
   "metadata": {},
   "outputs": [
    {
     "name": "stdout",
     "output_type": "stream",
     "text": [
      "Students placed with CGPA>7 are 367\n",
      "Students not placed with CGPA>7 are 0\n",
      "Students placed with CGPA>7 and having backlogs are 115\n",
      "---\n",
      "There is an observation that the students securing CGPA>7 \n",
      "are all placed irrespective of their backlog status.\n"
     ]
    }
   ],
   "source": [
    "print('Students placed with CGPA>7 are', len(df[(df['CGPA']>7) & (df['PlacedOrNot']==1) ]) )\n",
    "\n",
    "print('Students not placed with CGPA>7 are', len(df[(df['CGPA']>7) & (df['PlacedOrNot']==0) ]) )\n",
    "\n",
    "print('Students placed with CGPA>7 and having backlogs are', \n",
    "      len(df[(df['CGPA']>7) & (df['PlacedOrNot']==1) & (df['HistoryOfBacklogs']==1)]) )\n",
    "print('---')\n",
    "print('''There is an observation that the students securing CGPA>7 \n",
    "are all placed irrespective of their backlog status.''')"
   ]
  },
  {
   "cell_type": "code",
   "execution_count": 22,
   "id": "a4abdac3",
   "metadata": {},
   "outputs": [
    {
     "data": {
      "image/png": "[encoded data removed]",
      "text/plain": [
       "<Figure size 216x216 with 1 Axes>"
      ]
     },
     "metadata": {},
     "output_type": "display_data"
    },
    {
     "data": {
      "image/png": "[encoded data removed]",
      "text/plain": [
       "<Figure size 216x216 with 1 Axes>"
      ]
     },
     "metadata": {},
     "output_type": "display_data"
    },
    {
     "data": {
      "image/png": "[encoded data removed]",
      "text/plain": [
       "<Figure size 216x216 with 1 Axes>"
      ]
     },
     "metadata": {},
     "output_type": "display_data"
    },
    {
     "data": {
      "image/png": "[encoded data removed]",
      "text/plain": [
       "<Figure size 216x216 with 1 Axes>"
      ]
     },
     "metadata": {},
     "output_type": "display_data"
    },
    {
     "data": {
      "image/png": "[encoded data removed]",
      "text/plain": [
       "<Figure size 216x216 with 1 Axes>"
      ]
     },
     "metadata": {},
     "output_type": "display_data"
    },
    {
     "data": {
      "image/png": "[encoded data removed]",
      "text/plain": [
       "<Figure size 216x216 with 1 Axes>"
      ]
     },
     "metadata": {},
     "output_type": "display_data"
    },
    {
     "name": "stdout",
     "output_type": "stream",
     "text": [
      "Highest percent placed students are for IT (62.9%) followed by \n",
      "CSE (62.14%) and least placed students are for Civil (51.32%).\n"
     ]
    }
   ],
   "source": [
    "c=df['Stream'].value_counts().index\n",
    "for i in range(len(c)):\n",
    "    b=df.groupby(by='Stream')\n",
    "    y=b.get_group(c[i])['PlacedOrNot'].value_counts()\n",
    "    plt.figure(figsize=(3,3))\n",
    "    plt.plot(i)\n",
    "    plt.pie(labels=['Placed','Not placed'],x=y.values,autopct='%.2f')\n",
    "    plt.title(f'{c[i]}')\n",
    "    plt.show()\n",
    "\n",
    "print('''Highest percent placed students are for IT (62.9%) followed by \n",
    "CSE (62.14%) and least placed students are for Civil (51.32%).''')"
   ]
  },
  {
   "cell_type": "code",
   "execution_count": 23,
   "id": "f54692a4",
   "metadata": {},
   "outputs": [
    {
     "data": {
      "text/plain": [
       "1    151\n",
       "0     92\n",
       "Name: PlacedOrNot, dtype: int64"
      ]
     },
     "execution_count": 23,
     "metadata": {},
     "output_type": "execute_result"
    }
   ],
   "source": [
    "b.get_group('Computer Science')['PlacedOrNot'].value_counts()"
   ]
  },
  {
   "cell_type": "code",
   "execution_count": 24,
   "id": "ad8e181d",
   "metadata": {},
   "outputs": [
    {
     "name": "stdout",
     "output_type": "stream",
     "text": [
      "The number of students total placed are 659 out of which 427 students are placed\n",
      "      who have done internship whereas 232 students are placed without doing any internships\n"
     ]
    },
    {
     "data": {
      "image/png": "[encoded data removed]",
      "text/plain": [
       "<Figure size 432x288 with 1 Axes>"
      ]
     },
     "metadata": {
      "needs_background": "light"
     },
     "output_type": "display_data"
    }
   ],
   "source": [
    "a=len(df[(df['Internships']==0) & (df['PlacedOrNot']==1)])\n",
    "b=len(df[(df['Internships']>0) & (df['PlacedOrNot']==1)])\n",
    "c=len(df[df['PlacedOrNot']==1])\n",
    "\n",
    "print(f\"\"\"The number of students total placed are {c} out of which {b} students are placed\n",
    "      who have done internship whereas {a} students are placed without doing any internships\"\"\")\n",
    "\n",
    "sns.barplot(y=[a,b],x=['Placed without any internship ', 'Placed with any internship.'])\n",
    "plt.show()"
   ]
  },
  {
   "cell_type": "code",
   "execution_count": 25,
   "id": "e2edf930",
   "metadata": {},
   "outputs": [
    {
     "data": {
      "text/plain": [
       "Index(['Age', 'Gender', 'Stream', 'Internships', 'CGPA', 'Hostel',\n",
       "       'HistoryOfBacklogs', 'PlacedOrNot'],\n",
       "      dtype='object')"
      ]
     },
     "execution_count": 25,
     "metadata": {},
     "output_type": "execute_result"
    }
   ],
   "source": [
    "df.columns"
   ]
  },
  {
   "cell_type": "code",
   "execution_count": 26,
   "id": "96ddc333",
   "metadata": {},
   "outputs": [
    {
     "data": {
      "text/html": [
       "<div>\n",
       "<style scoped>\n",
       "    .dataframe tbody tr th:only-of-type {\n",
       "        vertical-align: middle;\n",
       "    }\n",
       "\n",
       "    .dataframe tbody tr th {\n",
       "        vertical-align: top;\n",
       "    }\n",
       "\n",
       "    .dataframe thead th {\n",
       "        text-align: right;\n",
       "    }\n",
       "</style>\n",
       "<table border=\"1\" class=\"dataframe\">\n",
       "  <thead>\n",
       "    <tr style=\"text-align: right;\">\n",
       "      <th></th>\n",
       "      <th>Age</th>\n",
       "      <th>Gender</th>\n",
       "      <th>Stream</th>\n",
       "      <th>Internships</th>\n",
       "      <th>CGPA</th>\n",
       "      <th>Hostel</th>\n",
       "      <th>HistoryOfBacklogs</th>\n",
       "      <th>PlacedOrNot</th>\n",
       "    </tr>\n",
       "  </thead>\n",
       "  <tbody>\n",
       "    <tr>\n",
       "      <th>0</th>\n",
       "      <td>22</td>\n",
       "      <td>Male</td>\n",
       "      <td>Electronics And Communication</td>\n",
       "      <td>1</td>\n",
       "      <td>8</td>\n",
       "      <td>1</td>\n",
       "      <td>1</td>\n",
       "      <td>1</td>\n",
       "    </tr>\n",
       "    <tr>\n",
       "      <th>1</th>\n",
       "      <td>21</td>\n",
       "      <td>Female</td>\n",
       "      <td>Computer Science</td>\n",
       "      <td>0</td>\n",
       "      <td>7</td>\n",
       "      <td>1</td>\n",
       "      <td>1</td>\n",
       "      <td>1</td>\n",
       "    </tr>\n",
       "    <tr>\n",
       "      <th>2</th>\n",
       "      <td>22</td>\n",
       "      <td>Female</td>\n",
       "      <td>Information Technology</td>\n",
       "      <td>1</td>\n",
       "      <td>6</td>\n",
       "      <td>0</td>\n",
       "      <td>0</td>\n",
       "      <td>1</td>\n",
       "    </tr>\n",
       "    <tr>\n",
       "      <th>3</th>\n",
       "      <td>21</td>\n",
       "      <td>Male</td>\n",
       "      <td>Information Technology</td>\n",
       "      <td>0</td>\n",
       "      <td>8</td>\n",
       "      <td>0</td>\n",
       "      <td>1</td>\n",
       "      <td>1</td>\n",
       "    </tr>\n",
       "    <tr>\n",
       "      <th>4</th>\n",
       "      <td>22</td>\n",
       "      <td>Male</td>\n",
       "      <td>Mechanical</td>\n",
       "      <td>0</td>\n",
       "      <td>8</td>\n",
       "      <td>1</td>\n",
       "      <td>0</td>\n",
       "      <td>1</td>\n",
       "    </tr>\n",
       "  </tbody>\n",
       "</table>\n",
       "</div>"
      ],
      "text/plain": [
       "   Age  Gender                         Stream  Internships  CGPA  Hostel  \\\n",
       "0   22    Male  Electronics And Communication            1     8       1   \n",
       "1   21  Female               Computer Science            0     7       1   \n",
       "2   22  Female         Information Technology            1     6       0   \n",
       "3   21    Male         Information Technology            0     8       0   \n",
       "4   22    Male                     Mechanical            0     8       1   \n",
       "\n",
       "   HistoryOfBacklogs  PlacedOrNot  \n",
       "0                  1            1  \n",
       "1                  1            1  \n",
       "2                  0            1  \n",
       "3                  1            1  \n",
       "4                  0            1  "
      ]
     },
     "execution_count": 26,
     "metadata": {},
     "output_type": "execute_result"
    }
   ],
   "source": [
    "df.head()"
   ]
  },
  {
   "cell_type": "code",
   "execution_count": 27,
   "id": "148f2403",
   "metadata": {},
   "outputs": [
    {
     "data": {
      "text/plain": [
       "<Axes: >"
      ]
     },
     "execution_count": 27,
     "metadata": {},
     "output_type": "execute_result"
    },
    {
     "data": {
      "image/png": "[encoded data removed]",
      "text/plain": [
       "<Figure size 432x288 with 2 Axes>"
      ]
     },
     "metadata": {
      "needs_background": "light"
     },
     "output_type": "display_data"
    }
   ],
   "source": [
    "sns.heatmap(data=df.corr(),annot=True)"
   ]
  },
  {
   "cell_type": "code",
   "execution_count": 28,
   "id": "a4015e1e",
   "metadata": {},
   "outputs": [
    {
     "data": {
      "text/html": [
       "<div>\n",
       "<style scoped>\n",
       "    .dataframe tbody tr th:only-of-type {\n",
       "        vertical-align: middle;\n",
       "    }\n",
       "\n",
       "    .dataframe tbody tr th {\n",
       "        vertical-align: top;\n",
       "    }\n",
       "\n",
       "    .dataframe thead th {\n",
       "        text-align: right;\n",
       "    }\n",
       "</style>\n",
       "<table border=\"1\" class=\"dataframe\">\n",
       "  <thead>\n",
       "    <tr style=\"text-align: right;\">\n",
       "      <th></th>\n",
       "      <th>Age</th>\n",
       "      <th>Gender</th>\n",
       "      <th>Stream</th>\n",
       "      <th>Internships</th>\n",
       "      <th>CGPA</th>\n",
       "      <th>Hostel</th>\n",
       "      <th>HistoryOfBacklogs</th>\n",
       "      <th>PlacedOrNot</th>\n",
       "    </tr>\n",
       "  </thead>\n",
       "  <tbody>\n",
       "    <tr>\n",
       "      <th>0</th>\n",
       "      <td>22</td>\n",
       "      <td>1</td>\n",
       "      <td>3</td>\n",
       "      <td>1</td>\n",
       "      <td>8</td>\n",
       "      <td>1</td>\n",
       "      <td>1</td>\n",
       "      <td>1</td>\n",
       "    </tr>\n",
       "    <tr>\n",
       "      <th>1</th>\n",
       "      <td>21</td>\n",
       "      <td>0</td>\n",
       "      <td>1</td>\n",
       "      <td>0</td>\n",
       "      <td>7</td>\n",
       "      <td>1</td>\n",
       "      <td>1</td>\n",
       "      <td>1</td>\n",
       "    </tr>\n",
       "    <tr>\n",
       "      <th>2</th>\n",
       "      <td>22</td>\n",
       "      <td>0</td>\n",
       "      <td>4</td>\n",
       "      <td>1</td>\n",
       "      <td>6</td>\n",
       "      <td>0</td>\n",
       "      <td>0</td>\n",
       "      <td>1</td>\n",
       "    </tr>\n",
       "    <tr>\n",
       "      <th>3</th>\n",
       "      <td>21</td>\n",
       "      <td>1</td>\n",
       "      <td>4</td>\n",
       "      <td>0</td>\n",
       "      <td>8</td>\n",
       "      <td>0</td>\n",
       "      <td>1</td>\n",
       "      <td>1</td>\n",
       "    </tr>\n",
       "    <tr>\n",
       "      <th>4</th>\n",
       "      <td>22</td>\n",
       "      <td>1</td>\n",
       "      <td>5</td>\n",
       "      <td>0</td>\n",
       "      <td>8</td>\n",
       "      <td>1</td>\n",
       "      <td>0</td>\n",
       "      <td>1</td>\n",
       "    </tr>\n",
       "  </tbody>\n",
       "</table>\n",
       "</div>"
      ],
      "text/plain": [
       "   Age  Gender  Stream  Internships  CGPA  Hostel  HistoryOfBacklogs  \\\n",
       "0   22       1       3            1     8       1                  1   \n",
       "1   21       0       1            0     7       1                  1   \n",
       "2   22       0       4            1     6       0                  0   \n",
       "3   21       1       4            0     8       0                  1   \n",
       "4   22       1       5            0     8       1                  0   \n",
       "\n",
       "   PlacedOrNot  \n",
       "0            1  \n",
       "1            1  \n",
       "2            1  \n",
       "3            1  \n",
       "4            1  "
      ]
     },
     "execution_count": 28,
     "metadata": {},
     "output_type": "execute_result"
    }
   ],
   "source": [
    "from sklearn.preprocessing import LabelEncoder\n",
    "cols=['Gender','Stream']\n",
    "# Encode labels of object dtype multiple columns at once \n",
    "df[cols] = df[cols].apply(LabelEncoder().fit_transform)\n",
    "df.head()"
   ]
  },
  {
   "cell_type": "code",
   "execution_count": 29,
   "id": "26a399bc",
   "metadata": {},
   "outputs": [],
   "source": [
    "x = df.drop('PlacedOrNot',axis=1).values     #creating the independent variables\n",
    "y = df['PlacedOrNot'].values                 # target variables"
   ]
  },
  {
   "cell_type": "code",
   "execution_count": 47,
   "id": "87016235",
   "metadata": {},
   "outputs": [],
   "source": [
    "from sklearn.model_selection import train_test_split\n",
    "x_train,x_test,y_train,y_test = train_test_split(x,y,test_size=0.2,random_state=2)\n",
    "#Scaling the independent variables\n",
    "\n",
    "from sklearn.preprocessing import StandardScaler\n",
    "standard_Scaler=StandardScaler()\n",
    "x_train = standard_Scaler.fit_transform(x_train)   #fit generates the parameters, transform applies \n",
    "x_test = standard_Scaler.transform(x_test)"
   ]
  },
  {
   "cell_type": "code",
   "execution_count": 48,
   "id": "546e343b",
   "metadata": {},
   "outputs": [
    {
     "name": "stdout",
     "output_type": "stream",
     "text": [
      "Report for test data\n",
      "              precision    recall  f1-score   support\n",
      "\n",
      "           0       0.68      0.59      0.63       100\n",
      "           1       0.71      0.78      0.74       128\n",
      "\n",
      "    accuracy                           0.70       228\n",
      "   macro avg       0.69      0.69      0.69       228\n",
      "weighted avg       0.70      0.70      0.69       228\n",
      "\n",
      "Report for train data\n",
      "              precision    recall  f1-score   support\n",
      "\n",
      "           0       0.69      0.64      0.66       378\n",
      "           1       0.76      0.79      0.77       531\n",
      "\n",
      "    accuracy                           0.73       909\n",
      "   macro avg       0.72      0.72      0.72       909\n",
      "weighted avg       0.73      0.73      0.73       909\n",
      "\n"
     ]
    }
   ],
   "source": [
    "from sklearn.linear_model import LogisticRegression\n",
    "from sklearn import metrics\n",
    "\n",
    "\n",
    "log_reg=LogisticRegression(random_state=10)\n",
    "log_reg.fit(x_train,y_train)\n",
    "y_pred_test=log_reg.predict(x_test)\n",
    "y_pred_train=log_reg.predict(x_train)\n",
    "\n",
    "print('Report for test data')\n",
    "print(metrics.classification_report(y_test,y_pred_test))\n",
    "\n",
    "print('Report for train data')\n",
    "print(metrics.classification_report(y_train,y_pred_train))"
   ]
  },
  {
   "cell_type": "code",
   "execution_count": 49,
   "id": "d8a01bfa",
   "metadata": {},
   "outputs": [
    {
     "name": "stdout",
     "output_type": "stream",
     "text": [
      "0.8351001821493627\n",
      "Accuracy Score for model for test data is:  0.8026315789473685\n"
     ]
    }
   ],
   "source": [
    "from sklearn.tree import DecisionTreeClassifier\n",
    "from sklearn.metrics import confusion_matrix , classification_report , accuracy_score\n",
    "from sklearn.metrics import roc_curve, auc\n",
    "from sklearn.model_selection import GridSearchCV\n",
    "\n",
    "fit_dt = DecisionTreeClassifier(random_state=17)\n",
    "\n",
    "param_dist = {'max_depth': [2, 3, 4,5,6,7,8,9,10],\n",
    "              'criterion': ['gini', 'entropy'],\n",
    "             'max_leaf_nodes':[4,6,8,10,12,14]}\n",
    "\n",
    "cv_dt = GridSearchCV(fit_dt, cv = 15,\n",
    "                     param_grid=param_dist)\n",
    "\n",
    "cv_dt.fit(x_train, y_train)\n",
    "\n",
    "print(cv_dt.best_score_)\n",
    "\n",
    "y_pred=cv_dt.predict(x_test)\n",
    "\n",
    "accuracy_score = accuracy_score(y_test,y_pred)\n",
    "print('Accuracy Score for model for test data is: ',accuracy_score)"
   ]
  },
  {
   "cell_type": "code",
   "execution_count": 50,
   "id": "47ffdb55",
   "metadata": {},
   "outputs": [
    {
     "name": "stdout",
     "output_type": "stream",
     "text": [
      "              precision    recall  f1-score   support\n",
      "\n",
      "           0       0.72      0.89      0.80       100\n",
      "           1       0.90      0.73      0.81       128\n",
      "\n",
      "    accuracy                           0.80       228\n",
      "   macro avg       0.81      0.81      0.80       228\n",
      "weighted avg       0.82      0.80      0.80       228\n",
      "\n"
     ]
    }
   ],
   "source": [
    "print(classification_report(y_test,y_pred))"
   ]
  },
  {
   "cell_type": "code",
   "execution_count": 51,
   "id": "c0a42fd7",
   "metadata": {},
   "outputs": [
    {
     "name": "stdout",
     "output_type": "stream",
     "text": [
      "              precision    recall  f1-score   support\n",
      "\n",
      "           0       0.73      0.97      0.83       378\n",
      "           1       0.97      0.75      0.85       531\n",
      "\n",
      "    accuracy                           0.84       909\n",
      "   macro avg       0.85      0.86      0.84       909\n",
      "weighted avg       0.87      0.84      0.84       909\n",
      "\n"
     ]
    }
   ],
   "source": [
    "y_pred_train=cv_dt.predict(x_train)\n",
    "print(classification_report(y_train,y_pred_train))"
   ]
  },
  {
   "cell_type": "code",
   "execution_count": 52,
   "id": "df06e678",
   "metadata": {},
   "outputs": [],
   "source": [
    "from sklearn.model_selection import train_test_split, GridSearchCV\n",
    "from sklearn.ensemble import RandomForestClassifier #RandomForestRegressor\n",
    "\n",
    "fit_rf = RandomForestClassifier(random_state=3)"
   ]
  },
  {
   "cell_type": "code",
   "execution_count": 56,
   "id": "1465eee4",
   "metadata": {},
   "outputs": [
    {
     "name": "stdout",
     "output_type": "stream",
     "text": [
      "Best Parameters using grid search: \n",
      " {'criterion': 'gini', 'max_depth': 6, 'max_features': 'auto', 'n_estimators': 25, 'oob_score': True}\n"
     ]
    }
   ],
   "source": [
    "# Providing the different values of hyperparameters\n",
    "param_dist = {'max_depth': [2, 3, 4,6,8],\n",
    "              'max_features': ['auto', 'sqrt'],\n",
    "              'criterion': ['gini', 'entropy'],\n",
    "             'oob_score' : [True, False],\n",
    "             'n_estimators':[10,15,20,25,30]}\n",
    "\n",
    "# Running gridsearchCV to check for all the different PnCs of these parameter values\n",
    "cv_rf = GridSearchCV(fit_rf, cv =5,\n",
    "                     param_grid=param_dist)\n",
    "\n",
    "#Fitting the train set , so that grid search is executed on this dataset\n",
    "cv_rf.fit(x_train, y_train)\n",
    "\n",
    "#Printing the best parameters by using best_params\n",
    "print('Best Parameters using grid search: \\n', cv_rf.best_params_)   #to get best Hyperparameters"
   ]
  },
  {
   "cell_type": "code",
   "execution_count": 59,
   "id": "53fe860a",
   "metadata": {},
   "outputs": [
    {
     "name": "stdout",
     "output_type": "stream",
     "text": [
      "              precision    recall  f1-score   support\n",
      "\n",
      "           0       0.73      0.80      0.76       100\n",
      "           1       0.83      0.77      0.80       128\n",
      "\n",
      "    accuracy                           0.78       228\n",
      "   macro avg       0.78      0.78      0.78       228\n",
      "weighted avg       0.79      0.78      0.78       228\n",
      "\n"
     ]
    }
   ],
   "source": [
    "y_pred = cv_rf.predict(x_test)\n",
    "print(classification_report(y_test,y_pred))"
   ]
  },
  {
   "cell_type": "code",
   "execution_count": 60,
   "id": "b0a47f0e",
   "metadata": {},
   "outputs": [
    {
     "name": "stdout",
     "output_type": "stream",
     "text": [
      "              precision    recall  f1-score   support\n",
      "\n",
      "           0       0.75      0.94      0.83       378\n",
      "           1       0.95      0.78      0.85       531\n",
      "\n",
      "    accuracy                           0.84       909\n",
      "   macro avg       0.85      0.86      0.84       909\n",
      "weighted avg       0.86      0.84      0.84       909\n",
      "\n"
     ]
    }
   ],
   "source": [
    "y_pred_train=cv_rf.predict(x_train)\n",
    "print(classification_report(y_train,y_pred_train))"
   ]
  },
  {
   "cell_type": "code",
   "execution_count": 61,
   "id": "12f42164",
   "metadata": {},
   "outputs": [
    {
     "name": "stdout",
     "output_type": "stream",
     "text": [
      "              precision    recall  f1-score   support\n",
      "\n",
      "           0       0.71      0.67      0.69       100\n",
      "           1       0.75      0.78      0.77       128\n",
      "\n",
      "    accuracy                           0.73       228\n",
      "   macro avg       0.73      0.73      0.73       228\n",
      "weighted avg       0.73      0.73      0.73       228\n",
      "\n",
      "              precision    recall  f1-score   support\n",
      "\n",
      "           0       0.71      0.71      0.71       378\n",
      "           1       0.79      0.79      0.79       531\n",
      "\n",
      "    accuracy                           0.76       909\n",
      "   macro avg       0.75      0.75      0.75       909\n",
      "weighted avg       0.76      0.76      0.76       909\n",
      "\n"
     ]
    }
   ],
   "source": [
    "from sklearn.naive_bayes import GaussianNB\n",
    "classifier = GaussianNB()\n",
    "classifier.fit(x_train,y_train)\n",
    "y_test_predict = classifier.predict(x_test)\n",
    "y_train_predict = classifier.predict(x_train)\n",
    "from sklearn.metrics import classification_report\n",
    "print(classification_report(y_test, y_test_predict))\n",
    "print(classification_report(y_train, y_train_predict))"
   ]
  },
  {
   "cell_type": "code",
   "execution_count": 62,
   "id": "df5375a2",
   "metadata": {},
   "outputs": [],
   "source": [
    "# K nearest neighbour\n",
    "from sklearn.neighbors import KNeighborsClassifier\n",
    "from sklearn.model_selection import cross_val_score\n",
    "\n",
    "error = []\n",
    "\n",
    "# May take some time\n",
    "for i in range(1,40):\n",
    "    \n",
    "    knn = KNeighborsClassifier(n_neighbors=i)\n",
    "    score=cross_val_score(knn,x_train,y_train,cv=5)\n",
    "    error.append(1-score.mean())\n",
    "    \n",
    "# k = 1, accuracy rate = 0.3\n",
    "# k = 2, accuracy rate = .7"
   ]
  },
  {
   "cell_type": "code",
   "execution_count": 63,
   "id": "e795e1f5",
   "metadata": {},
   "outputs": [
    {
     "data": {
      "text/plain": [
       "Text(0, 0.5, 'Accuracy Rate')"
      ]
     },
     "execution_count": 63,
     "metadata": {},
     "output_type": "execute_result"
    },
    {
     "data": {
      "image/png": "[encoded data removed]",
      "text/plain": [
       "<Figure size 720x432 with 1 Axes>"
      ]
     },
     "metadata": {
      "needs_background": "light"
     },
     "output_type": "display_data"
    }
   ],
   "source": [
    "plt.figure(figsize=(10,6))\n",
    "\n",
    "plt.plot(range(1,40),error,color='blue', linestyle='dashed', marker='o',\n",
    "         markerfacecolor='red', markersize=10)\n",
    "plt.title('Accuracy Rate vs. K Value')\n",
    "plt.xlabel('K')\n",
    "plt.ylabel('Accuracy Rate')"
   ]
  },
  {
   "cell_type": "code",
   "execution_count": 66,
   "id": "9690dacd",
   "metadata": {},
   "outputs": [
    {
     "name": "stdout",
     "output_type": "stream",
     "text": [
      "WITH K=30\n",
      "\n",
      "\n",
      "[[72 28]\n",
      " [30 98]]\n",
      "\n",
      "\n",
      "              precision    recall  f1-score   support\n",
      "\n",
      "           0       0.71      0.72      0.71       100\n",
      "           1       0.78      0.77      0.77       128\n",
      "\n",
      "    accuracy                           0.75       228\n",
      "   macro avg       0.74      0.74      0.74       228\n",
      "weighted avg       0.75      0.75      0.75       228\n",
      "\n"
     ]
    }
   ],
   "source": [
    "knn = KNeighborsClassifier(n_neighbors=17)\n",
    "\n",
    "knn.fit(x_train,y_train)\n",
    "pred = knn.predict(x_test)\n",
    "\n",
    "print('WITH K=30')\n",
    "print('\\n')\n",
    "print(confusion_matrix(y_test,pred))\n",
    "print('\\n')\n",
    "print(classification_report(y_test,pred))"
   ]
  },
  {
   "cell_type": "code",
   "execution_count": 67,
   "id": "743144e7",
   "metadata": {},
   "outputs": [],
   "source": [
    "#SVM\n",
    "\n",
    "tuned_parameter = {'C': [0.1, 1, 10, 100, 1000],        \n",
    "              'gamma': [1, 0.1, 0.01, 0.001, 0.0001],  \n",
    "              'kernel': ['linear','rbf','ploy']}"
   ]
  },
  {
   "cell_type": "code",
   "execution_count": 68,
   "id": "521c1282",
   "metadata": {},
   "outputs": [
    {
     "name": "stdout",
     "output_type": "stream",
     "text": [
      "{'C': 1, 'gamma': 0.1, 'kernel': 'rbf'}\n"
     ]
    }
   ],
   "source": [
    "from sklearn.model_selection import GridSearchCV\n",
    "from sklearn.svm import SVC\n",
    "\n",
    "svc = SVC(random_state = 5)\n",
    "model_svm = GridSearchCV(svc,tuned_parameter,cv=5)\n",
    "model_svm.fit(x_train,y_train)\n",
    "print(model_svm.best_params_)"
   ]
  },
  {
   "cell_type": "code",
   "execution_count": 69,
   "id": "e1216ea2",
   "metadata": {},
   "outputs": [
    {
     "name": "stdout",
     "output_type": "stream",
     "text": [
      "              precision    recall  f1-score   support\n",
      "\n",
      "           0       0.70      0.73      0.71       100\n",
      "           1       0.78      0.75      0.76       128\n",
      "\n",
      "    accuracy                           0.74       228\n",
      "   macro avg       0.74      0.74      0.74       228\n",
      "weighted avg       0.74      0.74      0.74       228\n",
      "\n"
     ]
    }
   ],
   "source": [
    "from sklearn.svm import SVC\n",
    "svc = SVC(kernel='rbf',C=1,gamma=0.1,random_state = 5)\n",
    "svc.fit(x_train,y_train)\n",
    "y_pred = svc.predict(x_test)\n",
    "print(classification_report(y_test,y_pred))"
   ]
  },
  {
   "cell_type": "code",
   "execution_count": 72,
   "id": "1ca7253b",
   "metadata": {},
   "outputs": [
    {
     "data": {
      "text/plain": [
       "0.8241988304093567"
      ]
     },
     "execution_count": 72,
     "metadata": {},
     "output_type": "execute_result"
    }
   ],
   "source": [
    "from sklearn.model_selection import cross_val_score\n",
    "\n",
    "scores=cross_val_score(cv_dt,x,y,cv=15)\n",
    "scores.mean()"
   ]
  },
  {
   "cell_type": "code",
   "execution_count": 83,
   "id": "4bfebe55",
   "metadata": {},
   "outputs": [
    {
     "name": "stdout",
     "output_type": "stream",
     "text": [
      "Best Parameters using grid search: \n",
      " {'max_depth': 6, 'max_features': 'auto', 'n_estimators': 15}\n"
     ]
    }
   ],
   "source": [
    "param_dist = {'max_depth': [2, 3, 4,6,8,10],\n",
    "              'max_features': ['auto', 'sqrt'],\n",
    "             'n_estimators':[10,15,20,25,30]}\n",
    "\n",
    "# Running gridsearchCV to check for all the different PnCs of these parameter values\n",
    "cv_rf = GridSearchCV(fit_rf, cv =10,\n",
    "                     param_grid=param_dist)\n",
    "\n",
    "#Fitting the train set , so that grid search is executed on this dataset\n",
    "cv_rf.fit(x_train, y_train)\n",
    "\n",
    "#Printing the best parameters by using best_params\n",
    "print('Best Parameters using grid search: \\n', cv_rf.best_params_)   #to get best Hyperparameters"
   ]
  },
  {
   "cell_type": "code",
   "execution_count": 84,
   "id": "649dcdff",
   "metadata": {},
   "outputs": [
    {
     "name": "stdout",
     "output_type": "stream",
     "text": [
      "              precision    recall  f1-score   support\n",
      "\n",
      "           0       0.73      0.82      0.77       100\n",
      "           1       0.84      0.77      0.80       128\n",
      "\n",
      "    accuracy                           0.79       228\n",
      "   macro avg       0.79      0.79      0.79       228\n",
      "weighted avg       0.80      0.79      0.79       228\n",
      "\n"
     ]
    }
   ],
   "source": [
    "y_pred1 = cv_rf.predict(x_test)\n",
    "print(classification_report(y_test,y_pred1))"
   ]
  },
  {
   "cell_type": "code",
   "execution_count": 85,
   "id": "d0f72d35",
   "metadata": {},
   "outputs": [
    {
     "name": "stdout",
     "output_type": "stream",
     "text": [
      "              precision    recall  f1-score   support\n",
      "\n",
      "           0       0.74      0.93      0.83       378\n",
      "           1       0.94      0.77      0.85       531\n",
      "\n",
      "    accuracy                           0.84       909\n",
      "   macro avg       0.84      0.85      0.84       909\n",
      "weighted avg       0.86      0.84      0.84       909\n",
      "\n"
     ]
    }
   ],
   "source": [
    "y_pred_train = cv_rf.predict(x_train)\n",
    "print(classification_report(y_train,y_pred_train))"
   ]
  },
  {
   "cell_type": "code",
   "execution_count": 96,
   "id": "41b95074",
   "metadata": {},
   "outputs": [
    {
     "name": "stdout",
     "output_type": "stream",
     "text": [
      "0.8361352657004831\n",
      "              precision    recall  f1-score   support\n",
      "\n",
      "           0       0.72      0.89      0.80       100\n",
      "           1       0.90      0.73      0.81       128\n",
      "\n",
      "    accuracy                           0.80       228\n",
      "   macro avg       0.81      0.81      0.80       228\n",
      "weighted avg       0.82      0.80      0.80       228\n",
      "\n"
     ]
    }
   ],
   "source": [
    "from sklearn.model_selection import RandomizedSearchCV\n",
    "\n",
    "fit_dt = DecisionTreeClassifier(random_state=17)\n",
    "\n",
    "param_dist = {'max_depth': [2, 3, 4,5,6,7,8],\n",
    "              'criterion': ['gini', 'entropy'],\n",
    "             'max_leaf_nodes':[4,6,8,10,12,16,18]}\n",
    "\n",
    "cv_dt = RandomizedSearchCV(fit_dt, cv = 20,\n",
    "                     param_distributions=param_dist)\n",
    "\n",
    "cv_dt.fit(x_train, y_train)\n",
    "\n",
    "print(cv_dt.best_score_)\n",
    "\n",
    "y_pred=cv_dt.predict(x_test)\n",
    "\n",
    "print(classification_report(y_test,y_pred))"
   ]
  },
  {
   "cell_type": "code",
   "execution_count": 95,
   "id": "7099e667",
   "metadata": {},
   "outputs": [
    {
     "data": {
      "text/plain": [
       "{'max_leaf_nodes': 12, 'max_depth': 5, 'criterion': 'gini'}"
      ]
     },
     "execution_count": 95,
     "metadata": {},
     "output_type": "execute_result"
    }
   ],
   "source": [
    "cv_dt.best_params_"
   ]
  },
  {
   "cell_type": "code",
   "execution_count": null,
   "id": "2310db23",
   "metadata": {},
   "outputs": [],
   "source": []
  }
 ],
 "metadata": {
  "kernelspec": {
   "display_name": "Python 3 (ipykernel)",
   "language": "python",
   "name": "python3"
  },
  "language_info": {
   "codemirror_mode": {
    "name": "ipython",
    "version": 3
   },
   "file_extension": ".py",
   "mimetype": "text/x-python",
   "name": "python",
   "nbconvert_exporter": "python",
   "pygments_lexer": "ipython3",
   "version": "3.9.7"
  }
 },
 "nbformat": 4,
 "nbformat_minor": 5
}
